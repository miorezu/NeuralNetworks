{
 "cells": [
  {
   "metadata": {},
   "cell_type": "raw",
   "source": [
    "                                                    Робота з векторами Python\n",
    " \n",
    "    1. Реалізуйте функцію, яка повертає максимальний елемент у векторі x серед елементів, перед якими стоїть нульовий. Для x = np.array([6,     2, 0, 3, 0, 0, 5, 7, 0]) відповіддю є 5. Якщо нульових елементів немає, функція повинна повертати None."
   ],
   "id": "93ae4b0d05fd9180"
  },
  {
   "metadata": {
    "ExecuteTime": {
     "end_time": "2024-09-11T19:11:45.604714Z",
     "start_time": "2024-09-11T19:11:45.596500Z"
    }
   },
   "cell_type": "code",
   "source": [
    "import numpy as np\n",
    "\n",
    "def find_max_before_zero(arr):\n",
    "    if 0 in arr:\n",
    "        result = np.where(arr[:-1] == 0, arr[1:], 0).max()\n",
    "        return result\n",
    "    else:\n",
    "        return None\n",
    "        \n",
    "x = np.array([6, 2, 0, 3, 0, 0, 5, 7, 0])\n",
    "y = np.array([6, 2, 4, 0, 7, 8, 5, 7, 8])\n",
    "z = np.array([6, 2, 4, 9, 7, 8, 5, 7, 8])\n",
    "\n",
    "print(find_max_before_zero(x))\n",
    "print(find_max_before_zero(y))\n",
    "print(find_max_before_zero(z))"
   ],
   "id": "f8b333b46d87f42",
   "outputs": [
    {
     "name": "stdout",
     "output_type": "stream",
     "text": [
      "5\n",
      "7\n",
      "None\n"
     ]
    }
   ],
   "execution_count": 8
  },
  {
   "metadata": {},
   "cell_type": "raw",
   "source": "    2. Реалізуйте функцію, що приймає на вхід матрицю і деяке число і повертає найближчий до елемента матриці. Наприклад: для X = np.arange         (0,10).reshape((2, 5)) та v = 3.6 відповіддю буде 4.",
   "id": "fd8fa5228e8d2707"
  },
  {
   "metadata": {
    "ExecuteTime": {
     "end_time": "2024-09-11T19:24:02.657652Z",
     "start_time": "2024-09-11T19:24:02.650773Z"
    }
   },
   "cell_type": "code",
   "source": [
    "import numpy as np\n",
    "\n",
    "def find_closest(arr, v):\n",
    "    return arr.flat[np.abs(arr - v).argmin()]\n",
    "\n",
    "x = np.arange(0, 10).reshape(2, 5)\n",
    "v = 3.6\n",
    "print(find_closest(x, v))\n",
    "u = 9.7\n",
    "print(find_closest(x, u))"
   ],
   "id": "a23c0aedb6796691",
   "outputs": [
    {
     "name": "stdout",
     "output_type": "stream",
     "text": [
      "4\n",
      "9\n"
     ]
    }
   ],
   "execution_count": 12
  },
  {
   "metadata": {},
   "cell_type": "raw",
   "source": [
    "    3. Реалізуйте функцію, яка приймає на вхід матрицю і масштабує кожен її стовпець (знайти максимальний елемент у стовпці та розділити на         нього всі елементи стовпця). Додати перевірку поділу на 0.\n",
    "     "
   ],
   "id": "76c0a75481172264"
  },
  {
   "metadata": {
    "ExecuteTime": {
     "end_time": "2024-09-11T19:39:01.647435Z",
     "start_time": "2024-09-11T19:39:01.642456Z"
    }
   },
   "cell_type": "code",
   "source": [
    "import numpy as np\n",
    "\n",
    "def divide_matrix(matrix: np.matrix):\n",
    "    column_max_values = matrix.max(axis=0)\n",
    "    return matrix / column_max_values"
   ],
   "id": "e795a5163074f7d1",
   "outputs": [],
   "execution_count": 14
  }
 ],
 "metadata": {
  "kernelspec": {
   "display_name": "Python 3",
   "language": "python",
   "name": "python3"
  },
  "language_info": {
   "codemirror_mode": {
    "name": "ipython",
    "version": 2
   },
   "file_extension": ".py",
   "mimetype": "text/x-python",
   "name": "python",
   "nbconvert_exporter": "python",
   "pygments_lexer": "ipython2",
   "version": "2.7.6"
  }
 },
 "nbformat": 4,
 "nbformat_minor": 5
}
