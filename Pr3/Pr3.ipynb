{
 "cells": [
  {
   "cell_type": "code",
   "id": "initial_id",
   "metadata": {
    "collapsed": true,
    "ExecuteTime": {
     "end_time": "2024-11-17T14:59:36.142881Z",
     "start_time": "2024-11-17T14:59:36.138086Z"
    }
   },
   "source": [
    "import numpy as np\n",
    "import matplotlib.pyplot as plt"
   ],
   "outputs": [],
   "execution_count": 65
  },
  {
   "metadata": {
    "ExecuteTime": {
     "end_time": "2024-11-17T14:59:36.276323Z",
     "start_time": "2024-11-17T14:59:36.269925Z"
    }
   },
   "cell_type": "code",
   "source": [
    "def sigmoid(x):\n",
    "    return 1 / (1 + np.exp(-x))\n",
    "\n",
    "#похідна сигмоїдної функції\n",
    "def sigmoid_derivative(x):\n",
    "    return np.exp(-x) / (1 + np.exp(-x))"
   ],
   "id": "84cf16d4aabc3030",
   "outputs": [],
   "execution_count": 66
  },
  {
   "metadata": {
    "ExecuteTime": {
     "end_time": "2024-11-17T14:59:36.306713Z",
     "start_time": "2024-11-17T14:59:36.300169Z"
    }
   },
   "cell_type": "code",
   "source": [
    "data1 = [0.3, 0.1, 0.4, 0.5, 0.3, 0.1, 0.2, -0.1, -0.3]\n",
    "data2 = [-0.4, 0.1, 0.1, 0.2, -0.2, 0.3]\n",
    "data3 = [0.1, -0.4]\n",
    "\n",
    "weight_1 = np.array(data1).reshape((3, 3))\n",
    "weight_2 = np.array(data2).reshape((3, 2))\n",
    "weight_3 = np.array(data3).reshape((2, 1))\n",
    "\n",
    "print(\"Initial weights:\\nW1:\\n\", weight_1, \"\\nW2:\\n\", weight_2, \"\\nW3:\\n\", weight_3)"
   ],
   "id": "5cfb3b91dcbf14ea",
   "outputs": [
    {
     "name": "stdout",
     "output_type": "stream",
     "text": [
      "Initial weights:\n",
      "W1:\n",
      " [[ 0.3  0.1  0.4]\n",
      " [ 0.5  0.3  0.1]\n",
      " [ 0.2 -0.1 -0.3]] \n",
      "W2:\n",
      " [[-0.4  0.1]\n",
      " [ 0.1  0.2]\n",
      " [-0.2  0.3]] \n",
      "W3:\n",
      " [[ 0.1]\n",
      " [-0.4]]\n"
     ]
    }
   ],
   "execution_count": 67
  },
  {
   "metadata": {
    "ExecuteTime": {
     "end_time": "2024-11-17T14:59:36.427643Z",
     "start_time": "2024-11-17T14:59:36.421628Z"
    }
   },
   "cell_type": "code",
   "source": [
    "#Вхідні вектори\n",
    "x_train = np.array([[0.45, 0.3, 0.15], [0.6, 0.2, 0.9], [0.35, 0.45, 0.5]])\n",
    "#Вихідні вектори\n",
    "y_train = np.array([[0.75], [0.15], [0.2]])\n",
    "print(\"Input Vectors (x_train):\")\n",
    "for i, x in enumerate(x_train, start=1):\n",
    "    print(f\"Sample {i}: {x}\")\n",
    "\n",
    "print(\"\\nOutput Vectors (y_train):\")\n",
    "for i, y in enumerate(y_train, start=1):\n",
    "    print(f\"Sample {i}: {y[0]}\")"
   ],
   "id": "51f657066cc6d87b",
   "outputs": [
    {
     "name": "stdout",
     "output_type": "stream",
     "text": [
      "Input Vectors (x_train):\n",
      "Sample 1: [0.45 0.3  0.15]\n",
      "Sample 2: [0.6 0.2 0.9]\n",
      "Sample 3: [0.35 0.45 0.5 ]\n",
      "\n",
      "Output Vectors (y_train):\n",
      "Sample 1: 0.75\n",
      "Sample 2: 0.15\n",
      "Sample 3: 0.2\n"
     ]
    }
   ],
   "execution_count": 68
  },
  {
   "metadata": {
    "ExecuteTime": {
     "end_time": "2024-11-17T14:59:36.592930Z",
     "start_time": "2024-11-17T14:59:36.588937Z"
    }
   },
   "cell_type": "code",
   "source": [
    "epochs = 5000\n",
    "learning_rate = 0.25\n",
    "errors = []"
   ],
   "id": "be5727d560506ac4",
   "outputs": [],
   "execution_count": 69
  },
  {
   "metadata": {
    "ExecuteTime": {
     "end_time": "2024-11-17T14:59:36.951860Z",
     "start_time": "2024-11-17T14:59:36.617812Z"
    }
   },
   "cell_type": "code",
   "source": [
    "for epoch in range(epochs):\n",
    "    #Пряме поширення\n",
    "    hidden1 = sigmoid(np.dot(x_train, weight_1))\n",
    "    hidden2 = sigmoid(np.dot(hidden1, weight_2))\n",
    "    output = sigmoid(np.dot(hidden2, weight_3))\n",
    "\n",
    "    error = y_train - output\n",
    "    mean_error = np.mean(np.abs(error))\n",
    "    errors.append(mean_error)\n",
    "\n",
    "    #Зворотне поширення\n",
    "    delta_out = error * sigmoid_derivative(output)\n",
    "    delta_hidden2 = np.dot(delta_out, weight_3.T) * sigmoid_derivative(hidden2)\n",
    "    delta_hidden1 = np.dot(delta_hidden2, weight_2.T) * sigmoid_derivative(hidden1)\n",
    "\n",
    "    #Оновлення ваг\n",
    "    weight_3 += learning_rate * np.dot(hidden2.T, delta_out)\n",
    "    weight_2 += learning_rate * np.dot(hidden1.T, delta_hidden2)\n",
    "    weight_1 += learning_rate * np.dot(x_train.T, delta_hidden1)\n",
    "\n",
    "print(\"Trained weights:\\nW1:\\n\", weight_1, \"\\nW2:\\n\", weight_2, \"\\nW3:\\n\", weight_3)\n",
    "\n",
    "print(f\"\\nFinal mean error: {mean_error}\")\n"
   ],
   "id": "976dc92357acbba2",
   "outputs": [
    {
     "name": "stdout",
     "output_type": "stream",
     "text": [
      "Trained weights:\n",
      "W1:\n",
      " [[   4.6041311  -449.2782129     5.17601366]\n",
      " [  -3.29045831 -321.16364308   -2.07414484]\n",
      " [ 201.51652242  608.77945517  163.03098915]] \n",
      "W2:\n",
      " [[-12.1536621    3.28673114]\n",
      " [-96.22658457  16.99671085]\n",
      " [-10.19819146   2.0456756 ]] \n",
      "W3:\n",
      " [[ 1.77598904]\n",
      " [-0.5502687 ]]\n",
      "\n",
      "Final mean error: 0.25506268962103457\n"
     ]
    }
   ],
   "execution_count": 70
  },
  {
   "metadata": {
    "ExecuteTime": {
     "end_time": "2024-11-17T14:59:37.137023Z",
     "start_time": "2024-11-17T14:59:37.034658Z"
    }
   },
   "cell_type": "code",
   "source": [
    "#Графік помилки\n",
    "plt.plot(errors, color='r')\n",
    "plt.title('Training Loss Over Epochs')\n",
    "plt.xlabel('Epochs')\n",
    "plt.ylabel('Loss')\n",
    "plt.show()"
   ],
   "id": "52bb640c86b676c",
   "outputs": [
    {
     "data": {
      "text/plain": [
       "<Figure size 640x480 with 1 Axes>"
      ],
      "image/png": "[encoded data removed]"
     },
     "metadata": {},
     "output_type": "display_data"
    }
   ],
   "execution_count": 71
  },
  {
   "metadata": {
    "ExecuteTime": {
     "end_time": "2024-11-17T14:59:37.159458Z",
     "start_time": "2024-11-17T14:59:37.152899Z"
    }
   },
   "cell_type": "code",
   "source": [
    "#Для перевірки різниці \n",
    "def forward(x, weight_1, weight_2, weight_3):\n",
    "    hidden1 = sigmoid(np.dot(x, weight_1))\n",
    "    hidden2 = sigmoid(np.dot(hidden1, weight_2))\n",
    "    output = sigmoid(np.dot(hidden2, weight_3))\n",
    "    return output\n",
    "\n",
    "print(\"Difference between target and given:\")\n",
    "print(\"Target output:\\n\", y_train)\n",
    "print(\"Given output:\\n\", forward(x_train, weight_1, weight_2, weight_3))"
   ],
   "id": "8de0c0f365b625d1",
   "outputs": [
    {
     "name": "stdout",
     "output_type": "stream",
     "text": [
      "Difference between target and given:\n",
      "Target output:\n",
      " [[0.75]\n",
      " [0.15]\n",
      " [0.2 ]]\n",
      "Given output:\n",
      " [[0.36641622]\n",
      " [0.36580207]\n",
      " [0.36580207]]\n"
     ]
    }
   ],
   "execution_count": 72
  }
 ],
 "metadata": {
  "kernelspec": {
   "display_name": "Python 3",
   "language": "python",
   "name": "python3"
  },
  "language_info": {
   "codemirror_mode": {
    "name": "ipython",
    "version": 2
   },
   "file_extension": ".py",
   "mimetype": "text/x-python",
   "name": "python",
   "nbconvert_exporter": "python",
   "pygments_lexer": "ipython2",
   "version": "2.7.6"
  }
 },
 "nbformat": 4,
 "nbformat_minor": 5
}
